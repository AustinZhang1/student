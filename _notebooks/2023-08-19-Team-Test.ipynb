{
 "cells": [
  {
   "cell_type": "markdown",
   "metadata": {},
   "source": [
    "---\n",
    "layout: post\n",
    "title: 1.1-1.4 Team Test\n",
    "description: This is a notebook with all our cells for the team test video.\n",
    "toc: false\n",
    "comments: false\n",
    "type: hacks\n",
    "courses: {\"compsci\": {week: 4} }\n",
    "---"
   ]
  },
  {
   "cell_type": "markdown",
   "metadata": {},
   "source": [
    "# Part 1: Collaboration Review\n",
    "\n",
    "### What are the benefits of a team? Explain some of the diversities that your team has to offer.\n",
    "- The benefits of a team include communication, compromise, and the ability to compartmentalize, increasing our efficiency by designating roles to members who may be more proficient at certain skills than others, while also being able to complete multiple tasks simultaneously. Some of the diversities our team has to offer are knowledge of multiple languages and diverse computer science backgrounds.\n",
    "### Describe how you will facilitate communication amongst group members.\n",
    "- We will facilitate communication through Discord, Slack, and regular meetups in person to discuss our roles and monitor our progress.\n",
    "### How will you hold each person accountable for their portion of the work? Think about dates, review tickets, and peer reviews.\n",
    "- We will assign certain dates of which select portions of our work shall be done. We will have daily check-ins with our team to review our work, making sure that each person has contributed to their part."
   ]
  },
  {
   "cell_type": "markdown",
   "metadata": {},
   "source": [
    "# Part 2: Program Function and Purpose"
   ]
  },
  {
   "cell_type": "code",
   "execution_count": null,
   "metadata": {},
   "outputs": [],
   "source": [
    "#Program with an output\n",
    "print(\"Hello World\")"
   ]
  },
  {
   "cell_type": "code",
   "execution_count": null,
   "metadata": {},
   "outputs": [],
   "source": [
    "#Program with an input and output5\n",
    "greeting = input(\"Provide a greeting: \")\n",
    "name = input(\"Provide a name: \")\n",
    "print(greeting + \" \" + name)"
   ]
  },
  {
   "cell_type": "code",
   "execution_count": null,
   "metadata": {},
   "outputs": [],
   "source": [
    "#Program with a List\n",
    "fruits = [\"Apple\", \"Banana\", \"Grape\", \"Watermelon\", \"Cherry\", \"Strawberry\", \"Blueberry\"]\n",
    "for fruit in fruits:\n",
    "    print(fruit)"
   ]
  },
  {
   "cell_type": "code",
   "execution_count": null,
   "metadata": {},
   "outputs": [],
   "source": [
    "#Program with a Dictionary\n",
    "student = {\"name\": \"Kaiyu\", \"age\": 16, \"grade\": \"C\"}\n",
    "print(\"Name:\", student[\"name\"])\n",
    "print(\"Age:\", student[\"age\"])\n",
    "print(\"Grade:\", student[\"grade\"])"
   ]
  },
  {
   "cell_type": "code",
   "execution_count": null,
   "metadata": {},
   "outputs": [],
   "source": [
    "#Program with an Iteration\n",
    "s = \"\"\n",
    "for i in range(1,10):\n",
    "    s += str(i) + \"\"\n",
    "    print(s)"
   ]
  },
  {
   "cell_type": "code",
   "execution_count": null,
   "metadata": {},
   "outputs": [],
   "source": [
    "#Program with a Function to perform mathematical and/or a statistical calculations\n",
    "def add_numbers(a, b):\n",
    "    return a + b\n",
    "def subtract_numbers(a, b):\n",
    "    return a - b\n",
    "def multiply_numbers(a, b):\n",
    "    return a * b\n",
    "def divide_numbers(a, b):\n",
    "    if b == 0:\n",
    "        return \"Error: Division by zero is not allowed.\"\n",
    "    return a / b\n",
    "num1 = float(input(\"Enter the first number: \"))\n",
    "num2 = float(input(\"Enter the second number: \"))\n",
    "operation = input(\"Choose operation (+ for addition, - for subtraction, * for multiplication, / for division): \")\n",
    "if operation == '+':\n",
    "    result = add_numbers(num1, num2)\n",
    "    operation_symbol = \"addition\"\n",
    "elif operation == '-':\n",
    "    result = subtract_numbers(num1, num2)\n",
    "    operation_symbol = \"subtraction\"\n",
    "elif operation == '*':\n",
    "    result = multiply_numbers(num1, num2)\n",
    "    operation_symbol = \"multiplication\"\n",
    "elif operation == '/':\n",
    "    result = divide_numbers(num1, num2)\n",
    "    operation_symbol = \"division\"\n",
    "else:\n",
    "    result = \"Invalid operation\"\n",
    "    operation_symbol = \"\"\n",
    "if operation_symbol:\n",
    "    print(f\"{num1} {operation} {num2} = {result} (Operation: {operation_symbol})\")\n",
    "else:\n",
    "    print(result)"
   ]
  },
  {
   "cell_type": "code",
   "execution_count": null,
   "metadata": {},
   "outputs": [],
   "source": [
    "#Program with a Conditional\n",
    "grade = int(input(\"Input your grade %\"))\n",
    "if grade >= 90:\n",
    "    print(\"You have an A\")\n",
    "elif grade >= 80:\n",
    "    print(\"You have a B\")\n",
    "elif grade >= 70:\n",
    "    print(\"You have a C\")\n",
    "elif grade >= 60:\n",
    "    print(\"You have a D\")\n",
    "else:\n",
    "    print(\"You have an F\")"
   ]
  },
  {
   "cell_type": "code",
   "execution_count": null,
   "metadata": {},
   "outputs": [],
   "source": [
    "# Program with Purpose\n",
    "weightInPounds = input(\"Input the weight in pounds: \")\n",
    "weightInKilograms = float(weightInPounds) / 2.205\n",
    "roundedWeightInKilograms = round(weightInKilograms, 2)\n",
    "print(\"The weight in kilograms is \" + str(roundedWeightInKilograms))"
   ]
  },
  {
   "cell_type": "markdown",
   "metadata": {},
   "source": [
    "# Part 3: Program Design and Development"
   ]
  },
  {
   "cell_type": "markdown",
   "metadata": {},
   "source": [
    "<html lang=\"en\">\n",
    "<head>\n",
    "    <meta charset=\"UTF-8\">\n",
    "    <meta name=\"viewport\" content=\"width=device-width, initial-scale=1.0\">\n",
    "    <title>Factorial Calculator</title>\n",
    "    <style>\n",
    "        /* Basic CSS for styling the UI */\n",
    "        body {\n",
    "            font-family: Arial, sans-serif;\n",
    "            background-color: #F4F4F4;\n",
    "        }\n",
    "        #calculator {\n",
    "            max-width: 400px;\n",
    "            margin: 0 auto;\n",
    "            padding: 20px;\n",
    "            background-color: #fff;\n",
    "            border-radius: 5px;\n",
    "        }\n",
    "        h1 {\n",
    "            color: #333;\n",
    "        }\n",
    "        input[type=\"number\"] {\n",
    "            width: 95% ;\n",
    "            padding: 10px;\n",
    "            margin-bottom: 10px;\n",
    "            border: 1px solid #ccc;\n",
    "            border-radius: 10px;\n",
    "        }\n",
    "        button {\n",
    "            background-color: #007BFF;\n",
    "            color: #fff;\n",
    "            border: none;\n",
    "            padding: 10px 20px;\n",
    "            cursor: pointer;\n",
    "        }\n",
    "    </style>\n",
    "</head>\n",
    "<body>\n",
    "    <div id=\"calculator\">\n",
    "        <h1>Factorial Calculator</h1>\n",
    "        <label for=\"number\">Enter a non-negative integer:</label>\n",
    "        <input type=\"number\" id=\"number\" min=\"0\" step=\"1\" required>\n",
    "        <button id=\"calculate\">Calculate Factorial</button>\n",
    "        <p id=\"result\"></p>\n",
    "    </div>\n",
    "<script>\n",
    "    // Add an event listener to the 'calculate' button\n",
    "    document.getElementById('calculate').addEventListener('click', function () {\n",
    "        // Get the input value as a number\n",
    "        const inputNumber = parseInt(document.getElementById('number').value);\n",
    "        try {\n",
    "            // Calculate the factorial using the calculateFactorial function\n",
    "            const factorialResult = calculateFactorial(inputNumber);\n",
    "            // Display the factorial result in the 'result' element\n",
    "            document.getElementById('result').textContent = `The factorial of ${inputNumber} is ${factorialResult}`;\n",
    "        } catch (error) {\n",
    "            // Handle errors by displaying an error message in the 'result' element\n",
    "            document.getElementById('result').textContent = error.message;\n",
    "        }\n",
    "    });\n",
    "    // Function to calculate the factorial\n",
    "    function calculateFactorial(num) {\n",
    "        // Check if the input is a non-negative integer\n",
    "        if (typeof num !== 'number' || num < 0 || Math.floor(num) !== num) {\n",
    "            throw new Error('Input must be a non-negative integer.');\n",
    "        }\n",
    "        // Calculate the factorial using a loop\n",
    "        let result = 1;\n",
    "        for (let i = 1; i <= num; i++) {\n",
    "            result *= i;\n",
    "        }\n",
    "        // Return the calculated factorial\n",
    "        return result;\n",
    "    }\n",
    "</script>\n",
    "<br>\n",
    "<h1>Visual illustration of algorithm</h1>\n",
    "<img src=\"https://ci3.googleusercontent.com/mail-img-att/AIFldNrzyIlbGAOsK_xIKKaIueAf7rSM4XREJNw_ann6mQH40gYRJRb2BYSCA_NllhHR84Vn5G9UcpOw27d0o17XXPfjXbX5W3E6Sw71khrObbL6-komDWoX77K4frKwzVvPY0GLWs1y-3VHRTudFeNzMME50s7_pLtelKJ79f8LkKv7Ycd-gZ--tr-xQjrrfHkfMeIpxeG0zU40yVd1zGCYnFiIEH2rSCjCR8hrbmxO5vThRb3_9qJD_s1KXRGNeHM3bmisMjiMEGqszCpkfDQ7tshVCifCuRXtzltkmwF-v9jDqhd2QAyFrG7mhPLeofsIZTRz-hBUhMgdGKTF8_EDaTs0_IfkHOpt9Ahhgzg512jUv9NZeSVaAwKxIh5Et_kxyjG6b-yy_5_rPuWugwWZ3RFcbNosomh9vWttEV6iqoEcCklaMq4PFpanQd30XOZzD-OWQufTzNGBHUnKGl4PNj4JpFPpIlAfjRZAZ5VFSLo1-9bvf4ZRzO5y5pY2Xqcmhn6Io3hCz63WSVnNfOleWT_vE7V2mN5fUGH7xWu3O1cUcbTqBHk2if4hObgNbQnmnLMiVUtins6GqqrqumVU0G_ymRRbtPkwf6992QKSup0um6hFLJwdJpCSWsMIi-_1rm47ecdM0LN8Nw5jlmQThuxQwiDUffq0fsceGuf0cC9KkLIeSW3bKUuH34zsOExOgEeGaRgB9b2AkFVMfVfxi6cdqY7yTdM2jhkxZdoUtf6NOhUMNhNypVthWxGv-x5svQ6VYwBnXVh2rZ4qc1Npo0yhkfsf7h8EVUOVoYY71Zca6Qsbll15s6b1RMUajWdiBmLx5CaGdFwPlxFSuWBsEjIFAe2-oTvwaGmrs0HG2sE4dq5l7WL8oLqctKpPvAUSe_FKncM0Iqy5lHHsB4Gzf_T3_HKWmqSt5gPFm7SgDEjUVKR7ho7mDybwRHXbc-t3De57m3tZGSq1p4qKS0RdCwjv6r2eqxvykxbVKkjvzvVJG0bj-QWK5aJ6YRNHXU03V0veCYpbu7ZCJ_30xdHkyuuG-aSemVmyWqEpoF_FTwdQJ3S0E78R-tTaBerik_JUQflqRhPcEsIzHP9qPLw3U6bLgvL4pH4qao1YbAz_Iy1v5vSz26nsLZiuDew-Bww=s0-l75-ft\">\n",
    "</body>\n",
    "</html>"
   ]
  },
  {
   "cell_type": "code",
   "execution_count": 1,
   "metadata": {
    "vscode": {
     "languageId": "html"
    }
   },
   "outputs": [
    {
     "ename": "SyntaxError",
     "evalue": "invalid decimal literal (1959275362.py, line 13)",
     "output_type": "error",
     "traceback": [
      "\u001b[0;36m  Cell \u001b[0;32mIn[1], line 13\u001b[0;36m\u001b[0m\n\u001b[0;31m    max-width: 400px;\u001b[0m\n\u001b[0m                 ^\u001b[0m\n\u001b[0;31mSyntaxError\u001b[0m\u001b[0;31m:\u001b[0m invalid decimal literal\n"
     ]
    }
   ],
   "source": [
    "<html lang=\"en\">\n",
    "<head>\n",
    "    <meta charset=\"UTF-8\">\n",
    "    <meta name=\"viewport\" content=\"width=device-width, initial-scale=1.0\">\n",
    "    <title>Factorial Calculator</title>\n",
    "    <style>\n",
    "        /* Basic CSS for styling the UI */\n",
    "        body {\n",
    "            font-family: Arial, sans-serif;\n",
    "            background-color: #F4F4F4;\n",
    "        }\n",
    "        #calculator {\n",
    "            max-width: 400px;\n",
    "            margin: 0 auto;\n",
    "            padding: 20px;\n",
    "            background-color: #fff;\n",
    "            border-radius: 5px;\n",
    "        }\n",
    "        h1 {\n",
    "            color: #333;\n",
    "        }\n",
    "        input[type=\"number\"] {\n",
    "            width: 95% ;\n",
    "            padding: 10px;\n",
    "            margin-bottom: 10px;\n",
    "            border: 1px solid #ccc;\n",
    "            border-radius: 10px;\n",
    "        }\n",
    "        button {\n",
    "            background-color: #007BFF;\n",
    "            color: #fff;\n",
    "            border: none;\n",
    "            padding: 10px 20px;\n",
    "            cursor: pointer;\n",
    "        }\n",
    "    </style>\n",
    "</head>\n",
    "<body>\n",
    "<br>\n",
    "    <div id=\"calculator\">\n",
    "        <h1>Factorial Calculator</h1>\n",
    "        <label for=\"number\">Enter a non-negative integer:</label>\n",
    "        <input type=\"number\" id=\"number\" min=\"0\" step=\"1\" required>\n",
    "        <button id=\"calculate\">Calculate Factorial</button>\n",
    "        <p id=\"result\"></p>\n",
    "    </div>\n",
    "<script>\n",
    "    // Add an event listener to the 'calculate' button\n",
    "    document.getElementById('calculate').addEventListener('click', function () {\n",
    "        // Get the input value as a number\n",
    "        const inputNumber = parseInt(document.getElementById('number').value);\n",
    "        try {\n",
    "            // Calculate the factorial using the calculateFactorial function\n",
    "            const factorialResult = calculateFactorial(inputNumber);\n",
    "            // Display the factorial result in the 'result' element\n",
    "            document.getElementById('result').textContent = `The factorial of ${inputNumber} is ${factorialResult}`;\n",
    "        } catch (error) {\n",
    "            // Handle errors by displaying an error message in the 'result' element\n",
    "            document.getElementById('result').textContent = error.message;\n",
    "        }\n",
    "    });\n",
    "    // Function to calculate the factorial\n",
    "    function calculateFactorial(num) {\n",
    "        // Check if the input is a non-negative integer\n",
    "        if (typeof num !== 'number' || num < 0 || Math.floor(num) !== num) {\n",
    "            throw new Error('Input must be a non-negative integer.');\n",
    "        }\n",
    "        // Calculate the factorial using a loop\n",
    "        let result = 1;\n",
    "        for (let i = 1; i <= num; i++) {\n",
    "            result *= i;\n",
    "        }\n",
    "        // Return the calculated factorial\n",
    "        return result;\n",
    "    }\n",
    "</script>\n",
    "<br>\n",
    "<h1>Visual illustration of algorithm</h1>\n",
    "<img src=\"https://ci3.googleusercontent.com/mail-img-att/AIFldNrzyIlbGAOsK_xIKKaIueAf7rSM4XREJNw_ann6mQH40gYRJRb2BYSCA_NllhHR84Vn5G9UcpOw27d0o17XXPfjXbX5W3E6Sw71khrObbL6-komDWoX77K4frKwzVvPY0GLWs1y-3VHRTudFeNzMME50s7_pLtelKJ79f8LkKv7Ycd-gZ--tr-xQjrrfHkfMeIpxeG0zU40yVd1zGCYnFiIEH2rSCjCR8hrbmxO5vThRb3_9qJD_s1KXRGNeHM3bmisMjiMEGqszCpkfDQ7tshVCifCuRXtzltkmwF-v9jDqhd2QAyFrG7mhPLeofsIZTRz-hBUhMgdGKTF8_EDaTs0_IfkHOpt9Ahhgzg512jUv9NZeSVaAwKxIh5Et_kxyjG6b-yy_5_rPuWugwWZ3RFcbNosomh9vWttEV6iqoEcCklaMq4PFpanQd30XOZzD-OWQufTzNGBHUnKGl4PNj4JpFPpIlAfjRZAZ5VFSLo1-9bvf4ZRzO5y5pY2Xqcmhn6Io3hCz63WSVnNfOleWT_vE7V2mN5fUGH7xWu3O1cUcbTqBHk2if4hObgNbQnmnLMiVUtins6GqqrqumVU0G_ymRRbtPkwf6992QKSup0um6hFLJwdJpCSWsMIi-_1rm47ecdM0LN8Nw5jlmQThuxQwiDUffq0fsceGuf0cC9KkLIeSW3bKUuH34zsOExOgEeGaRgB9b2AkFVMfVfxi6cdqY7yTdM2jhkxZdoUtf6NOhUMNhNypVthWxGv-x5svQ6VYwBnXVh2rZ4qc1Npo0yhkfsf7h8EVUOVoYY71Zca6Qsbll15s6b1RMUajWdiBmLx5CaGdFwPlxFSuWBsEjIFAe2-oTvwaGmrs0HG2sE4dq5l7WL8oLqctKpPvAUSe_FKncM0Iqy5lHHsB4Gzf_T3_HKWmqSt5gPFm7SgDEjUVKR7ho7mDybwRHXbc-t3De57m3tZGSq1p4qKS0RdCwjv6r2eqxvykxbVKkjvzvVJG0bj-QWK5aJ6YRNHXU03V0veCYpbu7ZCJ_30xdHkyuuG-aSemVmyWqEpoF_FTwdQJ3S0E78R-tTaBerik_JUQflqRhPcEsIzHP9qPLw3U6bLgvL4pH4qao1YbAz_Iy1v5vSz26nsLZiuDew-Bww=s0-l75-ft\">\n",
    "</body>\n",
    "</html>"
   ]
  },
  {
   "cell_type": "markdown",
   "metadata": {},
   "source": [
    "# Part 4: Identyfing and Correct Errors"
   ]
  },
  {
   "cell_type": "markdown",
   "metadata": {},
   "source": [
    "## First, we define our function.\n",
    "> This function takes two numbers and divides them.<br>\n",
    "> Here, we also test using non-zero numbers to see if the function works for regular division"
   ]
  },
  {
   "cell_type": "code",
   "execution_count": null,
   "metadata": {},
   "outputs": [],
   "source": [
    "# Function to divide two numbers that are inputted.\n",
    "def divide(a,b):\n",
    "    # Raise a Value Error if there is division by 0\n",
    "    if b == 0:\n",
    "        raise ValueError(\"Divison by 0 is undefined\")\n",
    "    # Otherwise, return the result\n",
    "    else:\n",
    "        output = a / b\n",
    "    return output\n",
    "\n",
    "# First we test division with two numbers that can be divided to ensure that the function works for regular division\n",
    "result = divide(6,3)\n",
    "assert result == 2, \"Expected result for 6 / 3 is 2, but got {}\".format(result)\n",
    "print(f\"Test passed: divide(6, 3) correctly returned 2\")"
   ]
  },
  {
   "cell_type": "markdown",
   "metadata": {},
   "source": [
    "## Now we can test, using a try/catch statement first.\n",
    "> Here we force the function to do division by 0 using a try statement.<br>\n",
    "> If there is a Value Error, we know that the function worked properly."
   ]
  },
  {
   "cell_type": "code",
   "execution_count": null,
   "metadata": {},
   "outputs": [],
   "source": [
    "# Here we test to see if the function works when encountering division by 0 using try/catch statements\n",
    "try:\n",
    "    result = divide(8, 0)\n",
    "    print(\"Test failed: Expected ValueError, but got result:\", result)\n",
    "except ValueError as e:\n",
    "    print(\"Test passed:\", str(e))"
   ]
  },
  {
   "cell_type": "markdown",
   "metadata": {},
   "source": [
    "## Now we test using a if/else statement.\n",
    "> Here we force the function to do division by 0 using a if statement.<br>\n",
    "> If an output is returned from the function, the function has failed, but if there is no output then the function passed."
   ]
  },
  {
   "cell_type": "code",
   "execution_count": null,
   "metadata": {},
   "outputs": [],
   "source": [
    "# Here we test to see if the function works when encountering division by 0 using if/else statements\n",
    "result = None\n",
    "if 0!=0:\n",
    "    result = divide(8, 0)\n",
    "if result is not None:\n",
    "    print(\"Test failed: Expected ValueError, but got result:\", result)\n",
    "else:\n",
    "    print(\"Test passed: divide(8, 0) correctly handled division by zero.\")"
   ]
  }
 ],
 "metadata": {
  "kernelspec": {
   "display_name": "Python 3",
   "language": "python",
   "name": "python3"
  },
  "language_info": {
   "codemirror_mode": {
    "name": "ipython",
    "version": 3
   },
   "file_extension": ".py",
   "mimetype": "text/x-python",
   "name": "python",
   "nbconvert_exporter": "python",
   "pygments_lexer": "ipython3",
   "version": "3.10.12"
  },
  "orig_nbformat": 4
 },
 "nbformat": 4,
 "nbformat_minor": 2
}
