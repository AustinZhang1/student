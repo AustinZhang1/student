{
 "cells": [
  {
   "cell_type": "markdown",
   "metadata": {},
   "source": [
    "---\n",
    "layout: post\n",
    "title: Developing Algorithms\n",
    "description: Lesson on Developing Algoritms\n",
    "courses: {\"compsci\": {week: 9} }\n",
    "type: hacks\n",
    "author: Austin Zhang\n",
    "---"
   ]
  },
  {
   "cell_type": "code",
   "execution_count": 5,
   "metadata": {},
   "outputs": [
    {
     "name": "stdout",
     "output_type": "stream",
     "text": [
      "[1, 2, 2, 2, 3, 3, 4, 5, 5, 7, 7, 7]\n"
     ]
    }
   ],
   "source": [
    "numbers = [1,2,3,7,5,3,7,2,4,5,7,2]\n",
    "numbers.sort()\n",
    "print(numbers)"
   ]
  },
  {
   "cell_type": "markdown",
   "metadata": {},
   "source": [
    "## Homework\n",
    "\n",
    "Find the median test grade of a class\n",
    "Create a simple game using random numbers\n",
    "\n",
    "#### Homework 1:"
   ]
  },
  {
   "cell_type": "code",
   "execution_count": null,
   "metadata": {},
   "outputs": [],
   "source": [
    "def find_median(test_grades):\n",
    "    # Sort the grades in ascending order\n",
    "    sorted_grades = sorted(test_grades)\n",
    "    \n",
    "    n = len(sorted_grades)\n",
    "    \n",
    "    # Check if the number of grades is odd or even\n",
    "    if n % 2 == 1:\n",
    "        # If the number of grades is odd, return the middle value\n",
    "        median = sorted_grades[n // 2]\n",
    "    else:\n",
    "        # If the number of grades is even, return the average of the two middle values\n",
    "        middle1 = sorted_grades[n // 2 - 1]\n",
    "        middle2 = sorted_grades[n // 2]\n",
    "        median = (middle1 + middle2) / 2\n",
    "\n",
    "    return median\n",
    "\n",
    "# List of test grades\n",
    "test_grades = [85, 92, 78, 90, 88, 76, 84, 89, 95, 91]\n",
    "\n",
    "# Calculate the median\n",
    "median_grade = find_median(test_grades)\n",
    "\n",
    "print(f\"The median test grade is: {median_grade}\")\n",
    "\n",
    "\n",
    "\n",
    "\n"
   ]
  },
  {
   "cell_type": "markdown",
   "metadata": {},
   "source": [
    "#### Homework 2:"
   ]
  },
  {
   "cell_type": "code",
   "execution_count": null,
   "metadata": {},
   "outputs": [],
   "source": [
    "import random\n",
    "\n",
    "number = random.randint(1,10)\n",
    "guess = int(input(\"Guess a number from 1 to 10: \"))\n",
    "if guess == number:\n",
    "    print(\"Congrats! You guessed the number!\")\n",
    "else: \n",
    "    print(\"Sorry, you didn't guess the number.\")"
   ]
  }
 ],
 "metadata": {
  "kernelspec": {
   "display_name": "Python 3",
   "language": "python",
   "name": "python3"
  },
  "language_info": {
   "codemirror_mode": {
    "name": "ipython",
    "version": 3
   },
   "file_extension": ".py",
   "mimetype": "text/x-python",
   "name": "python",
   "nbconvert_exporter": "python",
   "pygments_lexer": "ipython3",
   "version": "3.10.12"
  }
 },
 "nbformat": 4,
 "nbformat_minor": 2
}
