{
 "cells": [
  {
   "cell_type": "markdown",
   "metadata": {},
   "source": [
    "---\n",
    "layout: post\n",
    "title: Simulations and Algorithmic Efficiency\n",
    "description: Lesson on Simulations/Algorithmic Efficiency\n",
    "courses: {\"compsci\": {week: 10} }\n",
    "type: hacks\n",
    "author: Austin Zhang\n",
    "---"
   ]
  },
  {
   "cell_type": "markdown",
   "metadata": {},
   "source": [
    "* Simulations are cheap and don't waste resource. Ex. Flying Simulators, Simulating Car Crashes <br>\n",
    "* They give results and are less risky, but not always perfectly accurate\n",
    "* Algorithms need to be efficient to save time"
   ]
  },
  {
   "cell_type": "markdown",
   "metadata": {},
   "source": [
    "### Homework:\n",
    "- Write an algorithm in python that uses a function to sort 4 numbers from lowest to highest.<br>\n",
    "- What are 3 benefits and 1 negative of using a simulation <br>\n",
    "- Think of social media platforms that you go on. What is an aspect of one of those platforms that uses an algorithm to improve their feature and usability?\n"
   ]
  },
  {
   "cell_type": "code",
   "execution_count": 7,
   "metadata": {},
   "outputs": [
    {
     "name": "stdout",
     "output_type": "stream",
     "text": [
      "[2, 3, 4, 7]\n"
     ]
    }
   ],
   "source": [
    "# Homework 1\n",
    "## Algorithm in python that uses a function to sort 4 numbers in order\n",
    "def numsort(arr):\n",
    "    arr.sort()\n",
    "    print(arr)\n",
    "    \n",
    "arr = [4,3,7,2]\n",
    "numsort(arr)\n"
   ]
  },
  {
   "cell_type": "markdown",
   "metadata": {},
   "source": [
    "### Homework 2\n",
    "- Benefits: Saving Resources, No risk, Helps get data\n",
    "- Drawbacks: Impossible to make perfectly accurate\n",
    "\n",
    "### Homework 3\n",
    "- An aspect on social media platforms that uses algorithms to improve the feature is ad targeting. They look at people's preferences and what they looked at to choose specific ads to give them."
   ]
  }
 ],
 "metadata": {
  "kernelspec": {
   "display_name": "Python 3",
   "language": "python",
   "name": "python3"
  },
  "language_info": {
   "codemirror_mode": {
    "name": "ipython",
    "version": 3
   },
   "file_extension": ".py",
   "mimetype": "text/x-python",
   "name": "python",
   "nbconvert_exporter": "python",
   "pygments_lexer": "ipython3",
   "version": "3.10.6"
  }
 },
 "nbformat": 4,
 "nbformat_minor": 2
}
