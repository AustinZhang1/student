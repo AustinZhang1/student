{
 "cells": [
  {
   "cell_type": "markdown",
   "metadata": {},
   "source": [
    "---\n",
    "layout: post\n",
    "title: Python Quiz\n",
    "description: A simple quiz written in python\n",
    "toc: false\n",
    "comments: true\n",
    "tags: [notebooks, python, personal]\n",
    "type: devops\n",
    "---"
   ]
  },
  {
   "cell_type": "code",
   "execution_count": 1,
   "metadata": {},
   "outputs": [
    {
     "name": "stdout",
     "output_type": "stream",
     "text": [
      "Welcome to the quiz,   !\n",
      "\n"
     ]
    },
    {
     "ename": "TypeError",
     "evalue": "Kernel.raw_input() takes from 1 to 2 positional arguments but 3 were given",
     "output_type": "error",
     "traceback": [
      "\u001b[0;31m---------------------------------------------------------------------------\u001b[0m",
      "\u001b[0;31mTypeError\u001b[0m                                 Traceback (most recent call last)",
      "Cell \u001b[0;32mIn[1], line 20\u001b[0m\n\u001b[1;32m     17\u001b[0m     percent\u001b[39m=\u001b[39m score\u001b[39m/\u001b[39m\u001b[39mlen\u001b[39m(answers)\n\u001b[1;32m     18\u001b[0m     \u001b[39mprint\u001b[39m(\u001b[39m\"\u001b[39m\u001b[39mYour score was \u001b[39m\u001b[39m{percent}\u001b[39;00m\u001b[39m\"\u001b[39m \u001b[39m'\u001b[39m\u001b[39m%\u001b[39m\u001b[39m'\u001b[39m \u001b[39m'\u001b[39m\u001b[39m or \u001b[39m\u001b[39m{score}\u001b[39;00m\u001b[39m/\u001b[39m\u001b[39m{\u001b[39m\u001b[39mlen(answers)}\u001b[39m\u001b[39m'\u001b[39m )\n\u001b[0;32m---> 20\u001b[0m quiz(name, questions, answers)\n",
      "Cell \u001b[0;32mIn[1], line 11\u001b[0m, in \u001b[0;36mquiz\u001b[0;34m(name, questions, answers)\u001b[0m\n\u001b[1;32m      9\u001b[0m score \u001b[39m=\u001b[39m \u001b[39m0\u001b[39m\n\u001b[1;32m     10\u001b[0m \u001b[39mfor\u001b[39;00m i \u001b[39min\u001b[39;00m \u001b[39mrange\u001b[39m(\u001b[39mlen\u001b[39m(questions)):\n\u001b[0;32m---> 11\u001b[0m     answer\u001b[39m=\u001b[39m\u001b[39minput\u001b[39;49m(questions[i],\u001b[39m\"\u001b[39;49m\u001b[39m\\n\u001b[39;49;00m\u001b[39m\"\u001b[39;49m)\n\u001b[1;32m     12\u001b[0m     \u001b[39mif\u001b[39;00m answer \u001b[39m==\u001b[39m answers[i]:\n\u001b[1;32m     13\u001b[0m         \u001b[39mprint\u001b[39m(\u001b[39m\"\u001b[39m\u001b[39mCorrect!\u001b[39m\u001b[39m\\n\u001b[39;00m\u001b[39m\"\u001b[39m)\n",
      "\u001b[0;31mTypeError\u001b[0m: Kernel.raw_input() takes from 1 to 2 positional arguments but 3 were given"
     ]
    }
   ],
   "source": [
    "name = input(\"Enter your name: \")\n",
    "questions = [\"What command do you type when you want to output a string of text in python: \", \"What keyword would you use to define a function: \", \n",
    "             \"If you see many lines of code in order, what would College Board call it: \", \"What command is used to include other functions that were previously developed: \"]\n",
    "answers = [\"print\", \"def\", \"sequence\", \"import\"]\n",
    "print(\"Welcome to the quiz, {name}!\\n\")\n",
    "\n",
    "def quiz(name, questions, answers):\n",
    "    input(\"Press Enter to begin:\")\n",
    "    score = 0\n",
    "    for i in range(len(questions)):\n",
    "        answer=input(\"{questions[i]}\\n\")\n",
    "        if answer == answers[i]:\n",
    "            print(\"Correct!\\n\")\n",
    "            score += 1\n",
    "        else:\n",
    "            print(\"Wrong.\\n\")\n",
    "    percent= score/len(answers)\n",
    "    print(\"Your score was {percent} \"\"% \" \"or {score}/{len(answers)}\" )\n",
    "            \n",
    "quiz(name, questions, answers)\n",
    "        "
   ]
  }
 ],
 "metadata": {
  "kernelspec": {
   "display_name": "Python 3",
   "language": "python",
   "name": "python3"
  },
  "language_info": {
   "codemirror_mode": {
    "name": "ipython",
    "version": 3
   },
   "file_extension": ".py",
   "mimetype": "text/x-python",
   "name": "python",
   "nbconvert_exporter": "python",
   "pygments_lexer": "ipython3",
   "version": "3.10.12"
  },
  "orig_nbformat": 4
 },
 "nbformat": 4,
 "nbformat_minor": 2
}
