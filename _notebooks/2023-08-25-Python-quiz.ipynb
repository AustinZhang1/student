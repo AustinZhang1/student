{
 "cells": [
  {
   "cell_type": "markdown",
   "metadata": {},
   "source": [
    "---\n",
    "toc: true\n",
    "comments: false\n",
    "layout: post\n",
    "title: Python Practice Quiz \n",
    "description: This is a simple Python Quiz\n",
    "type: hacks\n",
    "courses: {\"compsci\": {week: 1} }\n",
    "---"
   ]
  },
  {
   "cell_type": "code",
   "execution_count": 12,
   "metadata": {},
   "outputs": [
    {
     "name": "stdout",
     "output_type": "stream",
     "text": [
      "> Enter your name: Austin\n",
      "Welcome to the quiz, Austin \n",
      "\n",
      "> What command do you type when you want to output a string of text in python: print\n",
      "Correct!\n",
      "\n",
      "> What keyword would you use to define a function: class\n",
      "Wrong. The correct answer is def\n",
      "\n",
      "> If you see many lines of code in order, what would College Board call it: sequence\n",
      "Correct!\n",
      "\n",
      "> What command is used to include other functions that were previously developed: import\n",
      "Correct!\n",
      "\n",
      "Your score was 75.0%, or 3/4\n"
     ]
    }
   ],
   "source": [
    "name = input(\"Enter your name: \")\n",
    "questions = [\"What command do you type when you want to output a string of text in python: \", \"What keyword would you use to define a function: \", \n",
    "             \"If you see many lines of code in order, what would College Board call it: \", \"What command is used to include other functions that were previously developed: \"]\n",
    "answers = [\"print\", \"def\", \"sequence\", \"import\"]\n",
    "print(\"> Enter your name: Austin\")\n",
    "print(\"Welcome to the quiz,\", name, \"\\n\")\n",
    "\n",
    "def quiz(questions, answers):\n",
    "    score = 0\n",
    "    for i in range(len(questions)):\n",
    "        answer=input(questions[i]+ \"\\n\")\n",
    "        print(\"> \"+ questions[i] + answer)\n",
    "        if answer == answers[i]:\n",
    "            print(\"Correct!\\n\")\n",
    "            score += 1\n",
    "        else:\n",
    "            print(\"Wrong. The correct answer is \"+ answers[i] + \"\\n\")\n",
    "    percent= 100 * (score/len(answers))\n",
    "    print(\"Your score was \"+str(percent)+ \"%, or \"+ str(score)+\"/\"+str(len(answers)))\n",
    "            \n",
    "quiz(questions, answers)\n",
    "        "
   ]
  }
 ],
 "metadata": {
  "kernelspec": {
   "display_name": "Python 3",
   "language": "python",
   "name": "python3"
  },
  "language_info": {
   "codemirror_mode": {
    "name": "ipython",
    "version": 3
   },
   "file_extension": ".py",
   "mimetype": "text/x-python",
   "name": "python",
   "nbconvert_exporter": "python",
   "pygments_lexer": "ipython3",
   "version": "3.10.12"
  },
  "orig_nbformat": 4
 },
 "nbformat": 4,
 "nbformat_minor": 2
}
