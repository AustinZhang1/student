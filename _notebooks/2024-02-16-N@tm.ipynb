{
 "cells": [
  {
   "cell_type": "markdown",
   "metadata": {},
   "source": [
    "---\n",
    "toc: true\n",
    "comments: true\n",
    "layout: post\n",
    "title: Spot Check\n",
    "courses: {compsci: {week: 15}}\n",
    "type: hacks\n",
    "---"
   ]
  },
  {
   "cell_type": "raw",
   "metadata": {},
   "source": [
    "Blog / article on you and team\n",
    "\n",
    "Glows: Some glows were that everyone who came to our station complimented us and said they liked our project. I think the presentations went very well, and our whole team demonstrated mastery.\n",
    "Grows: Something that I can improve on is that out project is kind of unorganized. There is not a lot of connection between the different features, so we need to work on tighter communication throughout the team and work on having more readable, neat code.\n",
    "Feedback for future additions: Some future additions could be a leaderboard system that would keep track of points for the users. It could also \n",
    "Pictures:\n",
    "\n",
    "something you saw in CompSci that impressed\n",
    "\n",
    "something you saw outside of CompSci that you liked\n"
   ]
  }
 ],
 "metadata": {
  "language_info": {
   "name": "python"
  }
 },
 "nbformat": 4,
 "nbformat_minor": 2
}
