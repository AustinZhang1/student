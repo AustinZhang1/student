{
 "cells": [
  {
   "cell_type": "markdown",
   "metadata": {},
   "source": [
    "---\n",
    "layout: post\n",
    "title: Weather API Backend\n",
    "description: Backend code for API\n",
    "courses: {\"compsci\": {week: 10} }\n",
    "type: hacks\n",
    "author: Austin Zhang\n",
    "---"
   ]
  },
  {
   "cell_type": "code",
   "execution_count": null,
   "metadata": {},
   "outputs": [],
   "source": [
    "import requests\n",
    "import json\n",
    "import time\n",
    "from datetime import date\n",
    "from flask import Flask, render_template\n",
    "\n",
    "response = requests.get(\"https://api.open-meteo.com/v1/forecast?latitude=32.7157&longitude=-117.1647&hourly=temperature_2m,relativehumidity_2m,precipitation_probability,weathercode&temperature_unit=fahrenheit&timezone=America%2FLos_Angeles&forecast_days=1\")\n",
    "weather = response.json()\n",
    "app = Flask(__name__)\n",
    "\n",
    "@app.route('/')\n",
    "\n",
    "def index():\n",
    "    return render_template('weathertesting.html', info=weather)\n",
    "\n",
    "if __name__ == '__main__':\n",
    "    app.run(debug=True)\n"
   ]
  }
 ],
 "metadata": {
  "language_info": {
   "name": "python"
  }
 },
 "nbformat": 4,
 "nbformat_minor": 2
}
