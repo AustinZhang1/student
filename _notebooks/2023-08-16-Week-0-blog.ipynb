{
 "cells": [
  {
   "cell_type": "markdown",
   "metadata": {},
   "source": [
    "---\n",
    "layout: post\n",
    "title: Week 0 Blog\n",
    "description: A collection of things I've done and learned in week 0\n",
    "toc: false\n",
    "comments: false\n",
    "tags: [notebooks, weekly blogs, personal]\n",
    "type: devops\n",
    "---"
   ]
  },
  {
   "cell_type": "markdown",
   "metadata": {},
   "source": [
    "# Week 0 Blog!\n",
    "\n",
    " - On day one, I ran into a bunch of problems while trying to set up my WSL environment. The first problem that I had was that Visualization was not enabled in my BIOS, so my partner and I had to go through the bios and turn on Visualization.\n",
    " - Also, while I was installing WSL and Ubuntu, I ran into some errors and had to install pip, some missing modules, and some ruby gems to set up my environment and be able to open up the website on a local host.\n",
    " \n",
    "    "
   ]
  }
 ],
 "metadata": {
  "language_info": {
   "name": "python"
  },
  "orig_nbformat": 4
 },
 "nbformat": 4,
 "nbformat_minor": 2
}
