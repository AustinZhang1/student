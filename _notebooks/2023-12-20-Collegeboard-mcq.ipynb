{
 "cells": [
  {
   "cell_type": "markdown",
   "metadata": {},
   "source": [
    "---\n",
    "layout: post\n",
    "title: Collgeboard MCQ review\n",
    "description: Review for Collegeboard MCQ\n",
    "courses: {\"compsci\": {week: 10} }\n",
    "type: hacks\n",
    "author: Austin Zhang\n",
    "---"
   ]
  },
  {
   "cell_type": "markdown",
   "metadata": {},
   "source": [
    "Overall score: 65/67\n",
    "\n",
    "What went well:\n",
    "I am a lot more confident in answering computer science term/knowledge-based questions, as not only are those questions more intuitive-based, but I also have been learning those more recently through this Trimester’s Team Teaches. I've gotten better at understanding the questions and using logic as well as testing to find the correct answer.\n",
    "\n",
    "What could have gone better:\n",
    "Sometimes I would only look at a question for a few seconds and answer. I need to work on reading every answer choice in depth\n",
    "\n",
    "Plans for future growth:\n",
    "I plan to practice the exam and extend my knowledge further by studying this test’s results more, continuing AP CSP studies by doing more practice MC's, and researching and practicing more of this content online through various sources.\n",
    "\n",
    "Question reviews\n",
    "\n",
    "11) A color in a computing application is represented by an RGB triplet that describes the amount of red, green, and blue, respectively, used to create the desired color. A selection of colors and their corresponding RGB triplets are shown in the following table. Each value is represented in decimal (base 10).\n",
    "\n",
    "Color Name\tRGB Triplet\n",
    "indigo\t (75,   0, 130)\n",
    "ivory\t(255, 255, 240)\n",
    "light pink\t(255, 182, 193)​\n",
    "light yellow\t(255, 255, 224)\n",
    "magenta\t(255,   0, 255)\n",
    "neutral gray\t(127, 127, 112)\n",
    "pale yellow\t(255, 255, 160)\n",
    "vivid yellow\t(255, 255,  14)\n",
    "According to information in the table, what color is represented by the binary RGB triplet (11111111, 11111111, 11110000) ?\n",
    "\n",
    "\n",
    "I answered: Light Yellow\n",
    "This answer was wrong because the last number in the RGB triplet isn't 224. I think I made a mistake here by rushing and accidentally messing up converting binary to decimal.\n",
    "\n",
    "Correct answer: Ivory\n",
    "This answer is correct because 11110000 in binary converts to 128+64+32+16 which is 240. \n",
    "\n",
    "\n",
    "23) A flowchart is a way to visually represent an algorithm. The flowchart below is used by an application to set the Boolean variable available to true under certain conditions. The flowchart uses the Boolean variable weekday and the integer variable miles.\n",
    "\n",
    "![Image](./VR023832.g23.png)\n",
    "\n",
    "I answered: Avaliable <-- (weekday AND miles >= 20)\n",
    "However, this is wrong because when miles >= 20, miles < 20 is false and Avaliable becomes false, but with my answer Avaliable would be true.\n",
    "\n",
    "Correct Answer: Avaliable <-- (weekday AND miles < 20)\n",
    "This is correct because Avaliable is true if and only if weekday is true and miles are less than 20.\n",
    "\n",
    "\n",
    "All in all, I think that I did pretty well on this MCQ. I worked hard to answer all the questions right and got a very good score. For the future, I'll focus on analyzing each answer in depth to find the most accurate answer."
   ]
  }
 ],
 "metadata": {
  "language_info": {
   "name": "python"
  }
 },
 "nbformat": 4,
 "nbformat_minor": 2
}
