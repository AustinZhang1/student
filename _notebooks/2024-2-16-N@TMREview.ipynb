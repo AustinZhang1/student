{
 "cells": [
  {
   "attachments": {},
   "cell_type": "markdown",
   "metadata": {},
   "source": [
    "---\n",
    "toc: true\n",
    "comments: True\n",
    "layout: post\n",
    "title: N@TM Review\n",
    "description:  \n",
    "type: tangibles\n",
    "courses: { compsci: {week: 23} }\n",
    "---"
   ]
  },
  {
   "cell_type": "markdown",
   "metadata": {},
   "source": [
    "<h2>Night at the Museum Review</h2>"
   ]
  },
  {
   "cell_type": "markdown",
   "metadata": {},
   "source": [
    "1. Reflection on glow/grows from your demo\n",
    "\n",
    "We managed to fix a lot of bugs since our presentation with the teacher. The backend was a lot more functional, but still had some bugs to work out. The presentation went fairly well, and everyone who came to see said that they enjoyed the demo."
   ]
  },
  {
   "cell_type": "markdown",
   "metadata": {},
   "source": [
    "2.  Something that I will include in my next CPT project\n",
    "\n",
    "One of the major things that I learned during the NATM CPT project was to work more on the styling and user-friendliness of my games. A lot of the code was slow or messy and the styling was not very neat. I could also work on some of the bugs that are present that affected the visuals, while the game logic still worked. "
   ]
  },
  {
   "cell_type": "markdown",
   "metadata": {},
   "source": [
    "3. Something i saw in comp sci that impressed me\n",
    "\n",
    "I really like the mario game which one of my peers had built. The functionality of the game was really cool to watch and the way everything worked well together was also really cool. They had movement and accurate interactions with the mario world."
   ]
  },
  {
   "cell_type": "markdown",
   "metadata": {},
   "source": [
    "4. Something I saw outisde compsci i liked\n",
    "\n",
    "I really like the photography section. There were a couple of pictures in specific that were super cool, and it was impressive to see what some of my peers can do."
   ]
  },
  {
   "cell_type": "markdown",
   "metadata": {},
   "source": [
    "<h3>Pictures of NATM</h3>\n",
    "\n",
    "<img src=\"https://chat.google.com/u/0/api/get_attachment_url?url_type=FIFE_URL&content_type=image%2Fjpeg&attachment_token=AOo0EEV0fbbJJ1t09nKgmNcc6UCNdZ7EN7rBlRmVpCZin2F6T%2FEsMtkZOipqEskx46h5DFFZq9XRKySQ8WHbFnLmPmoTY99txL6VBuLih2E23D%2BUXNnUjMbrfZqU6o57EKJPf8t5FSsZCYMfCIMr%2FKB1jJJ2ijUVW6ix4CAuuypIJqXKUY2FQZLWJfSl6594efsIEB2UcMwFM4cbkfj6kNI5du5FygI%2FJwB5J0yST%2BfzmRZ2LokSd5xrALrN0uAQg2arEewDR76tOw2C1J536ALj4khBDWXtDiOeCksXrqLY9gKDADRaDKlmoo6goBA5nxmCK0re5eqnh1ydMvclyteoRu2hbzwzzeSKzazhosYb8XgNQj0yFUeRI76nqhc4SglPgg7pjl00YAafBf%2B80nWYcaWmDZq9vFiFsLpsSyoX6Nsg7Ndat2yzW5JxODnXKf39qrJMRPtkQ3Ob3xl4rjYUh2gmGrQ4dvjSoLPC7p7pxmxFa87MRPRxQ1t9KzqPlQ7AsEjPZdyDMwAahjK7OPzKDjnu1l7j01PElV1JxkkW6Pp1YC%2FEBAnYpeo7U00ri8FZIQ%3D%3D&sz=w512\"><br>\n",
    "<img src=\"https://chat.google.com/u/0/api/get_attachment_url?url_type=FIFE_URL&content_type=image%2Fjpeg&attachment_token=AOo0EEWDu1vg8l1%2BS6IhWEnj7iu2jE0mJEhbbeJ6Rn0WLEv%2FVWwk9VItwTPZD7mT1Gy%2FOFLL3EoY8GBfHO5Ng1U96gKQP%2FYcIBybXu1Op58U4T6oL6h6%2F3Y4BoW0RW52fqWt0NXayZqObS4Fehj5bHsZrWQ6gcoReczFPZn3aoPQsZ2RFTxI%2BXaz13WhJjDN73d3Msko7VsSFT2vlzngBipt%2BgiSz%2FrbsZkix5wO44feK8JUcapOSlU2gJpkxWPjmGpSWWZtcYCd4Sogs%2FL9Qh3tVhz63smKNIU74oDOHeTsyTE%2FI0XIpMM0vlejkmWFIe9L6L4gB2pJDiH%2BQPsHaitSkaK45xtoHsM5m%2FdatbpGedS0grCDlkADs3s4NRnBt0904Z00lQnKM%2B%2BnLuY6P%2FXp8wSEYlxU1sXj81X9u5dJxhzLDhFLsUmSEFrjlNeIWegx2PvEQkP%2F8t5CoJe3BLwFQ6veXUdFgsKHjycmidi0siczc1i1nGnE9b2nzHFtWrk6y4xLjCKc41g9KTdtkcxzWVlAwJlAKHN3ZmHGwwSlAgWji1omvKMFWOaM%2BXD%2FfmP4&sz=w1920-h919\"><br>\n",
    "<img src=\"https://chat.google.com/u/0/api/get_attachment_url?url_type=FIFE_URL&content_type=image%2Fjpeg&attachment_token=AOo0EEUJCqhfSNx9FTzeBcY5sMTb43bdwhZcX%2BZRNlbXiVxgBrq%2BY%2FMLiIoNNwJgke8FcYnAKxTroEzpcGq5hJappfrkNb%2B1p9oD6Fspvzu02IMH7L%2F2UHZBEmpMUY7NE1jiQ%2BPMr1QrNFzjZzZTx7cbiJrUWMuSm6aI9Xwv2dCfOCUBv8aRLasUfjDO5mExQ9cxIe%2BaWX66VC2LjTYPaze90pycZCLGFIzlPqvCLH%2B8H8fjYibnLoh1VkdMiWh%2FNQRCo08ppEO9dnQBVoI5hofD66KQuyB93TUtkHsPtH33QppwLpxhChWdTKwpHP%2B5WCHqYUwxXueU71gvgCHCah3%2BwM9TE76yZC4sd%2F2T54ssWxShd3NYFPfK1Kao3UVpVtu%2FmJOZ0cRIbfG6Fc1NXfziMlJqkhi5ZsM2A%2BuiO21N3sPh%2F%2F6DOLvhXlsU3XBE0r1YDsrXPytaFKBN96lh8EO3kSNrgpCFPSRg%2B%2BA3DEUeDzAz%2FNShIuXzCCsb7WKUu7qpA8B8uMRcpm5X9SH%2Bc6deMv8nrIwHvcs%2FVcjmpxzPk8IjXuICRMRcS9MijU9gQmqoC8s%3D&sz=w1920-h919\"><br>"
   ]
  }
 ],
 "metadata": {
  "kernelspec": {
   "display_name": "Python 3.9.12 ('base')",
   "language": "python",
   "name": "python3"
  },
  "language_info": {
   "name": "python",
   "version": "3.9.12 (main, Apr  5 2022, 01:53:17) \n[Clang 12.0.0 ]"
  },
  "orig_nbformat": 4,
  "vscode": {
   "interpreter": {
    "hash": "8b82d5009c68ba5675978267e2b13a671f2a7143d61273c5a3813c97e0b2493d"
   }
  }
 },
 "nbformat": 4,
 "nbformat_minor": 2
}
