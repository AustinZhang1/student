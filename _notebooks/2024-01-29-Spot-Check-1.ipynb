{
 "cells": [
  {
   "cell_type": "markdown",
   "metadata": {},
   "source": [
    "---\n",
    "toc: true\n",
    "comments: true\n",
    "layout: post\n",
    "title: Spot Check\n",
    "courses: {compsci: {week: 15}}\n",
    "type: hacks\n",
    "---"
   ]
  },
  {
   "cell_type": "markdown",
   "metadata": {},
   "source": [
    "database, with database schema change\n",
    "\n",
    " Show db.Column changes you have made to model/python file in Visual Studio Code\n",
    " Show initialization data code in VSCode\n",
    " Demo delete database and run ./migrate.sh\n",
    " Demo corresponding schema change in SQLite3\n",
    " Demo initialization data captured in Column in SQLite3\n",
    "postman with /authentication screen\n",
    "\n",
    " Show /authenticate endpoint code in Visual Studio Code\n",
    " Show and Demo /authenticate in Postman…\n",
    " Demo calling to endpoint\n",
    " Show JSON data passed in call\n",
    " Show Response window\n",
    " Show Cookie acquired window\n",
    " Cut/Copy/Paste Cookie into jwt.io and show decrypting payload\n",
    "postman with /api screen to access data under authentication\n",
    "\n",
    " Show /api CRUD code in Visual Studio Code, expecting READ/GET code\n",
    " Show and Demo /api READ/GET endpoint in Postman…\n",
    " Demo calling to endpoint that requires Cookie\n",
    " Show Response/Data\n",
    " Demo Deleting cookie\n",
    " Demo calling endpoint again\n",
    " Show Response/Failure"
   ]
  },
  {
   "cell_type": "markdown",
   "metadata": {},
   "source": [
    "Question 1\n",
    "\n",
    "database, with database schema change\n",
    "\n",
    "Show db.Column changes you have made to model/python file in Visual Studio Code\n",
    "![Image1](spotcheck1.png)\n",
    "Show initialization data code in VSCode\n",
    "![Image2](spotcheck2.png)   \n",
    "Demo delete database and run ./migrate.sh, Demo corresponding schema change in SQLite3, Demo initialization data captured in Column in SQLite3\n",
    "![Image3](spotcheck3.png)\n",
    "![Image4](spotcheck4.png)\n",
    "![Image5](spotcheck5.png)\n",
    "![Image6](spotcheck6.png)\n",
    "\n",
    "\n",
    "Question 2\n",
    "\n",
    "postman with /authentication screen\n",
    "\n",
    "Show /authenticate endpoint code in Visual Studio Code\n",
    "![Image7](spotcheck7.png)\n",
    "Show and Demo /authenticate in Postman…, Demo calling to endpoint\n",
    "![Image8](spotcheck8.png)\n",
    "Show JSON data passed in call, Show Response window, Show Cookie acquired window\n",
    "![Image9](spotcheck9.png)\n",
    "Cut/Copy/Paste Cookie into jwt.io and show decrypting payload\n",
    "![Image10](spotcheck10.png)\n",
    "\n",
    "\n",
    "Question 3\n",
    "\n",
    "postman with /api screen to access data under authentication\n",
    "\n",
    "Show /api CRUD code in Visual Studio Code, expecting READ/GET code\n",
    "![Image11](spotcheck11.png)\n",
    "![Image12](spotcheck12.png)\n",
    "Show and Demo /api READ/GET endpoint in Postman…\n",
    "![Image13](spotcheck13.png)\n",
    "Demo calling to endpoint that requires Cookie\n",
    "Show Response/Data\n",
    "Demo Deleting cookie\n",
    "Demo calling endpoint again\n",
    "Show Response/Failure"
   ]
  }
 ],
 "metadata": {
  "language_info": {
   "name": "python"
  }
 },
 "nbformat": 4,
 "nbformat_minor": 2
}
