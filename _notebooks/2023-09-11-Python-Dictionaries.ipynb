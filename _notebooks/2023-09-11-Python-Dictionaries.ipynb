{
 "cells": [
  {
   "cell_type": "markdown",
   "metadata": {},
   "source": [
    "---\n",
    "toc: true\n",
    "comments: false\n",
    "layout: post\n",
    "title: Python Dictionaries \n",
    "description: This is an experiment with python dictionaries\n",
    "type: hacks\n",
    "courses: {\"compsci\": {week: 4} }\n",
    "---"
   ]
  },
  {
   "cell_type": "code",
   "execution_count": 2,
   "metadata": {},
   "outputs": [
    {
     "name": "stdout",
     "output_type": "stream",
     "text": [
      "Austin Zhang\n",
      "15\n",
      "6 foot\n",
      "austinzhang0508@gmail.com\n",
      "David Lee\n",
      "51\n",
      "9 foot\n",
      "example.test@gmail.com\n"
     ]
    }
   ],
   "source": [
    "dictionary1 = []\n",
    "dictionary1.append({\n",
    "    \"name\": \"Austin Zhang\",\n",
    "    \"age\": 15,\n",
    "    \"height\": \"6 foot\",\n",
    "    \"email\": \"austinzhang0508@gmail.com\"    \n",
    "})\n",
    "dictionary1.append({\n",
    "    \"name\": \"David Lee\",\n",
    "    \"age\": 51,\n",
    "    \"height\": \"9 foot\",\n",
    "    \"email\": \"example.test@gmail.com\"    \n",
    "})\n",
    "\n",
    "def function1(record):\n",
    "    print(record[\"name\"])\n",
    "    print(record[\"age\"])\n",
    "    print(record[\"height\"])\n",
    "    print(record[\"email\"])\n",
    "def function2(dictionary1):\n",
    "    for record in dictionary1:\n",
    "         function1(record)\n",
    "function2(dictionary1)"
   ]
  }
 ],
 "metadata": {
  "kernelspec": {
   "display_name": "Python 3",
   "language": "python",
   "name": "python3"
  },
  "language_info": {
   "codemirror_mode": {
    "name": "ipython",
    "version": 3
   },
   "file_extension": ".py",
   "mimetype": "text/x-python",
   "name": "python",
   "nbconvert_exporter": "python",
   "pygments_lexer": "ipython3",
   "version": "3.10.12"
  },
  "orig_nbformat": 4
 },
 "nbformat": 4,
 "nbformat_minor": 2
}
