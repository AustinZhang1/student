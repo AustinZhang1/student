{
 "cells": [
  {
   "cell_type": "markdown",
   "metadata": {},
   "source": [
    "---\n",
    "layout: post\n",
    "title: Javascript practice\n",
    "description: Practice with identifying and correcting code blocks\n",
    "courses: {\"compsci\": {week: 7} }\n",
    "type: hacks\n",
    "author: Austin Zhang\n",
    "---"
   ]
  },
  {
   "cell_type": "code",
   "execution_count": null,
   "metadata": {
    "vscode": {
     "languageId": "html"
    }
   },
   "outputs": [],
   "source": [
    "<div>\n",
    "    <h1>Austin Zhang</h1>\n",
    "    <p>Hi! My name is Austin Zhang and I'm currently a 10th grader at Del Norte High School</p>\n",
    "    <a href = \"https://delnorte.powayusd.com/\">Del Norte</a>\n",
    "</div>"
   ]
  }
 ],
 "metadata": {
  "language_info": {
   "name": "python"
  },
  "orig_nbformat": 4
 },
 "nbformat": 4,
 "nbformat_minor": 2
}
