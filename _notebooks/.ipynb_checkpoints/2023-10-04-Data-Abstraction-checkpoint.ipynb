{
 "cells": [
  {
   "cell_type": "code",
   "execution_count": 3,
   "metadata": {},
   "outputs": [
    {
     "name": "stdout",
     "output_type": "stream",
     "text": [
      "25\n",
      "0.8823529411764706\n",
      "My first name is Austin and my last name is Zhang\n",
      "My first name is David and my last name is Lee\n"
     ]
    }
   ],
   "source": [
    "num1Int = 10\n",
    "num2Int = 15\n",
    "sum = num1Int+num2Int\n",
    "print(sum)\n",
    "\n",
    "float1 = 1.5\n",
    "float2 = 1.7\n",
    "quotient = 1.5 / 1.7\n",
    "print(quotient)\n",
    "\n",
    "message = \"My first name is {0} and my last name is {1}\"\n",
    "print(message.format(\"Austin\", \"Zhang\"))\n",
    "print(message.format(\"David\", \"Lee\"))"
   ]
  },
  {
   "cell_type": "code",
   "execution_count": null,
   "metadata": {
    "vscode": {
     "languageId": "javascript"
    }
   },
   "outputs": [],
   "source": [
    "const colors = [\"Reaver\", \"RGX\", \"BlastX\", \"Spectrum\", \"Origin\"]"
   ]
  },
  {
   "cell_type": "code",
   "execution_count": null,
   "metadata": {
    "vscode": {
     "languageId": "javascript"
    }
   },
   "outputs": [],
   "source": [
    "variablelist = [7, 9, 2, 8]"
   ]
  }
 ],
 "metadata": {
  "kernelspec": {
   "display_name": "Python 3",
   "language": "python",
   "name": "python3"
  },
  "language_info": {
   "codemirror_mode": {
    "name": "ipython",
    "version": 3
   },
   "file_extension": ".py",
   "mimetype": "text/x-python",
   "name": "python",
   "nbconvert_exporter": "python",
   "pygments_lexer": "ipython3",
   "version": "3.10.12"
  },
  "orig_nbformat": 4
 },
 "nbformat": 4,
 "nbformat_minor": 2
}
