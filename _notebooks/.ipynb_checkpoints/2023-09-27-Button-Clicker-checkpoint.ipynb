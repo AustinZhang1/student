{
 "cells": [
  {
   "cell_type": "markdown",
   "metadata": {},
   "source": [
    "---\n",
    "layout: post\n",
    "title: Clicker game\n",
    "description: Practice with identifying and correcting code blocks\n",
    "courses: {\"compsci\": {week: 6} }\n",
    "type: hacks\n",
    "author: Austin Zhang\n",
    "permalink: /basics/js-debug\n",
    "hide: True\n",
    "---"
   ]
  },
  {
   "cell_type": "code",
   "execution_count": 9,
   "metadata": {
    "vscode": {
     "languageId": "html"
    }
   },
   "outputs": [
    {
     "data": {
      "text/html": [
       "\n",
       "<div>\n",
       "    <h2 id=\"counter\">0</h2>\n",
       "    <button id=\"button\"; style=\"background:green\">Click Me!</button>\n",
       "</div>\n",
       "<br>\n",
       "\n",
       "<script>\n",
       "    function buttonpressed() {\n",
       "        var counter = document.getElementById(\"counter\")\n",
       "        counter.innerHTML = + counter.innerHTML\n",
       "        console.log(typeof counter.innerHTML)\n",
       "        counter.innerHTML += 1\n",
       "    }\n",
       "    var button = document.getElementById(\"button\")\n",
       "    button.onclick = buttonpressed\n",
       "</script>\n",
       "\n",
       "<!-- put your HTML code in this cell, Make sure to press the Run button to see your results below -->\n"
      ],
      "text/plain": [
       "<IPython.core.display.HTML object>"
      ]
     },
     "metadata": {},
     "output_type": "display_data"
    }
   ],
   "source": [
    "%%html\n",
    "\n",
    "<div>\n",
    "    <h2 id=\"counter\">0</h2>\n",
    "    <button id=\"button\"; style=\"background:green\">Click Me!</button>\n",
    "</div>\n",
    "<br>\n",
    "\n",
    "<script>\n",
    "    function buttonpressed() {\n",
    "        var counter = document.getElementById(\"counter\")\n",
    "        let counter = 100\n",
    "        console.log(typeof counter.innerHTML)\n",
    "        counter.innerHTML += 1\n",
    "    }\n",
    "    var button = document.getElementById(\"button\")\n",
    "    button.onclick = buttonpressed\n",
    "</script>\n",
    "\n",
    "<!-- put your HTML code in this cell, Make sure to press the Run button to see your results below -->"
   ]
  },
  {
   "cell_type": "code",
   "execution_count": null,
   "metadata": {},
   "outputs": [],
   "source": []
  }
 ],
 "metadata": {
  "kernelspec": {
   "display_name": "Python 3 (ipykernel)",
   "language": "python",
   "name": "python3"
  },
  "language_info": {
   "codemirror_mode": {
    "name": "ipython",
    "version": 3
   },
   "file_extension": ".py",
   "mimetype": "text/x-python",
   "name": "python",
   "nbconvert_exporter": "python",
   "pygments_lexer": "ipython3",
   "version": "3.10.12"
  }
 },
 "nbformat": 4,
 "nbformat_minor": 4
}
