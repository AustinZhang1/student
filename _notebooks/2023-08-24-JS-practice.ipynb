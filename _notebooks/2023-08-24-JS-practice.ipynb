{
 "cells": [
  {
   "cell_type": "markdown",
   "metadata": {},
   "source": [
    "---\n",
    "toc: true\n",
    "comments: false\n",
    "layout: post\n",
    "title: Javascript Practice \n",
    "description: This is a simple Javascript program using the \"if\" condition\n",
    "type: hacks\n",
    "courses: {\"compsci\": {week: 1} }\n",
    "---"
   ]
  },
  {
   "cell_type": "code",
   "execution_count": null,
   "metadata": {
    "vscode": {
     "languageId": "javascript"
    }
   },
   "outputs": [],
   "source": [
    "%%js%%\n",
    "// Check if one variable equals another\n",
    "var variable1 = 5;\n",
    "var variable2 = 5;\n",
    "if (variable1 === variable2) {\n",
    "    // Initialize a variable to store the sum\n",
    "    var sum = 0;\n",
    "    // Define the number of times to repeat\n",
    "    var n = 100;\n",
    "    // Loop to repeat the action n times\n",
    "    for (var i = 0; i < n; i++) {\n",
    "        // Add the current value of i to the sum\n",
    "        sum += i;\n",
    "    }\n",
    "    // Print the sum\n",
    "    console.log(\"Sum of numbers:\", sum);\n",
    "} else {\n",
    "    console.log(\"Variables are not equal.\");\n",
    "}"
   ]
  }
 ],
 "metadata": {
  "kernelspec": {
   "display_name": "Python 3",
   "language": "python",
   "name": "python3"
  },
  "language_info": {
   "codemirror_mode": {
    "name": "ipython",
    "version": 3
   },
   "file_extension": ".py",
   "mimetype": "text/x-python",
   "name": "python",
   "nbconvert_exporter": "python",
   "pygments_lexer": "ipython3",
   "version": "3.10.12"
  },
  "orig_nbformat": 4
 },
 "nbformat": 4,
 "nbformat_minor": 2
}
