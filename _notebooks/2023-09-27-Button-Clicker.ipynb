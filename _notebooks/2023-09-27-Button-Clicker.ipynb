{
 "cells": [
  {
   "cell_type": "markdown",
   "metadata": {},
   "source": [
    "---\n",
    "layout: post\n",
    "title: Clicker game\n",
    "description: Practice with identifying and correcting code blocks\n",
    "courses: {\"compsci\": {week: 6} }\n",
    "type: hacks\n",
    "author: Austin Zhang\n",
    "---"
   ]
  },
  {
   "cell_type": "code",
   "execution_count": null,
   "metadata": {
    "vscode": {
     "languageId": "html"
    }
   },
   "outputs": [],
   "source": [
    "<style>\n",
    "    .button{\n",
    "        color:wheat;\n",
    "        background: black;\n",
    "        font-family: 'Courier New';\n",
    "        \n",
    "    }\n",
    "    .button:hover{\n",
    "\n",
    "    }\n",
    "</style>\n",
    "\n",
    "<div>\n",
    "    <h2 id=\"counter\">0</h2>\n",
    "    <button id=\"button\"; style=\"background:green\">Click Me!</button>\n",
    "</div>\n",
    "<br>\n",
    "\n",
    "<script>\n",
    "    counter = 0\n",
    "    function buttonpressed() {\n",
    "        counter += 1\n",
    "        var a = document.getElementById(\"counter\")\n",
    "        console.log(typeof a.innerHTML)\n",
    "        a.innerHTML = counter\n",
    "    }\n",
    "    var button = document.getElementById(\"button\")\n",
    "    button.onclick = buttonpressed\n",
    "</script>\n",
    "\n",
    "<!-- put your HTML code in this cell, Make sure to press the Run button to see your results below -->"
   ]
  },
  {
   "cell_type": "code",
   "execution_count": null,
   "metadata": {},
   "outputs": [],
   "source": []
  }
 ],
 "metadata": {
  "kernelspec": {
   "display_name": "Python 3 (ipykernel)",
   "language": "python",
   "name": "python3"
  },
  "language_info": {
   "codemirror_mode": {
    "name": "ipython",
    "version": 3
   },
   "file_extension": ".py",
   "mimetype": "text/x-python",
   "name": "python",
   "nbconvert_exporter": "python",
   "pygments_lexer": "ipython3",
   "version": "3.10.12"
  }
 },
 "nbformat": 4,
 "nbformat_minor": 4
}
