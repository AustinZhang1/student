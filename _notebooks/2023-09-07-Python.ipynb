{
 "cells": [
  {
   "cell_type": "markdown",
   "metadata": {},
   "source": [
    "---\n",
    "toc: true\n",
    "comments: false\n",
    "layout: post\n",
    "title: Hangman Game in Python \n",
    "description: This is a simple hangman game coded in python\n",
    "type: hacks\n",
    "courses: {\"compsci\": {week: 3} }\n",
    "---"
   ]
  },
  {
   "cell_type": "code",
   "execution_count": 4,
   "metadata": {},
   "outputs": [
    {
     "name": "stdout",
     "output_type": "stream",
     "text": [
      "_ _ _ _ _ _ _ _ _ _ _\n",
      "Guessed Letters: \n",
      "_ _ _ _ _ a _ _ _ _ _\n",
      "Guessed Letters: a\n",
      "Wrong guess! You have 5 attempts left.\n",
      "_ _ _ _ _ a _ _ _ _ _\n",
      "Guessed Letters: a e\n",
      "_ _ _ _ _ a _ _ i _ _\n",
      "Guessed Letters: a e i\n",
      "p _ _ _ _ a _ _ i _ _\n",
      "Guessed Letters: a e i p\n",
      "p r _ _ r a _ _ i _ _\n",
      "Guessed Letters: a e i p r\n",
      "p r o _ r a _ _ i _ _\n",
      "Guessed Letters: a e i p r o\n",
      "p r o g r a _ _ i _ g\n",
      "Guessed Letters: a e i p r o g\n",
      "p r o g r a _ _ i n g\n",
      "Guessed Letters: a e i p r o g n\n",
      "Congratulations! You've won. The word was programming\n"
     ]
    }
   ],
   "source": [
    "import random\n",
    "\n",
    "# List of words to choose from\n",
    "word_list = [\"python\", \"hangman\", \"programming\", \"computer\", \"keyboard\", \"developer\", \"password\"]\n",
    "\n",
    "# Select a random word from the list\n",
    "chosen_word = random.choice(word_list)\n",
    "\n",
    "# Create a list to store the guessed letters\n",
    "guessed_letters = []\n",
    "\n",
    "# Maximum number of allowed incorrect guesses\n",
    "max_attempts = 6\n",
    "attempts = 0\n",
    "\n",
    "# Display the initial state of the game\n",
    "display_word = [\"_\"] * len(chosen_word)\n",
    "\n",
    "while True:\n",
    "    # Print the current state of the game\n",
    "    print(\" \".join(display_word))\n",
    "    print(f\"Guessed Letters: {' '.join(guessed_letters)}\")\n",
    "    \n",
    "    # Ask the player for a letter guess\n",
    "    guess = input(\"Guess a letter: \").lower()\n",
    "    \n",
    "    # Check if the guess is a single letter\n",
    "    if len(guess) != 1 or not guess.isalpha():\n",
    "        print(\"Please enter a single letter.\")\n",
    "        continue\n",
    "    \n",
    "    # Check if the letter has already been guessed\n",
    "    if guess in guessed_letters:\n",
    "        print(\"You've already guessed that letter.\")\n",
    "        continue\n",
    "    \n",
    "    guessed_letters.append(guess)\n",
    "    \n",
    "    # Check if the guess is correct\n",
    "    if guess in chosen_word:\n",
    "        for i in range(len(chosen_word)):\n",
    "            if chosen_word[i] == guess:\n",
    "                display_word[i] = guess\n",
    "    else:\n",
    "        attempts += 1\n",
    "        print(f\"Wrong guess! You have {max_attempts - attempts} attempts left.\")\n",
    "    \n",
    "    # Check if the player has won or lost\n",
    "    if \"_\" not in display_word:\n",
    "        print(f\"Congratulations! You've won. The word was {chosen_word}\")\n",
    "        break\n",
    "    elif attempts == max_attempts:\n",
    "        print(f\"You've run out of attempts. The word was '{chosen_word}'. Game over!\")\n",
    "        break\n"
   ]
  }
 ],
 "metadata": {
  "kernelspec": {
   "display_name": "Python 3",
   "language": "python",
   "name": "python3"
  },
  "language_info": {
   "codemirror_mode": {
    "name": "ipython",
    "version": 3
   },
   "file_extension": ".py",
   "mimetype": "text/x-python",
   "name": "python",
   "nbconvert_exporter": "python",
   "pygments_lexer": "ipython3",
   "version": "3.10.12"
  },
  "orig_nbformat": 4
 },
 "nbformat": 4,
 "nbformat_minor": 2
}
