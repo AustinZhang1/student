{
 "cells": [
  {
   "cell_type": "code",
   "execution_count": null,
   "metadata": {
    "vscode": {
     "languageId": "javascript"
    }
   },
   "outputs": [],
   "source": [
    "%%js\n",
    "const api_url = \"https://api.open-meteo.com/v1/forecast?latitude=52.52&longitude=13.41&hourly=temperature_2m,precipitation_probability,precipitation&daily=temperature_2m_max,temperature_2m_min,sunrise,sunset,precipitation_sum&temperature_unit=fahrenheit&timezone=America%2FLos_Angeles\"; \n",
    "async function getUser() { \n",
    "    const response = await fetch(api_url); \n",
    "    const data = await response.json(); \n",
    "    console.log(data[\"daily\"][\"temperature_2m_max\"][3]); \n",
    "} \n",
    "\n",
    "\n",
    "// Calling the function \n",
    "getUser(); \n"
   ]
  }
 ],
 "metadata": {
  "language_info": {
   "name": "python"
  },
  "orig_nbformat": 4
 },
 "nbformat": 4,
 "nbformat_minor": 2
}
