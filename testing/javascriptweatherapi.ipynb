{
 "cells": [
  {
   "cell_type": "code",
   "execution_count": 2,
   "metadata": {
    "vscode": {
     "languageId": "javascript"
    }
   },
   "outputs": [
    {
     "data": {
      "application/javascript": [
       "const api_url = \"https://api.open-meteo.com/v1/forecast?latitude=32.7157&longitude=-117.1647&hourly=temperature_2m,precipitation_probability,precipitation,rain&daily=temperature_2m_max,temperature_2m_min,sunrise,sunset,rain_sum&temperature_unit=fahrenheit&windspeed_unit=mph&timezone=America%2FLos_Angeles\"; \n",
       "async function getUser() { \n",
       "    const response = await fetch(api_url); \n",
       "    const data = await response.json(); \n",
       "    console.log(data[\"daily\"][\"temperature_2m_max\"][3]); \n",
       "} \n",
       "\n",
       "\n",
       "// Calling the function \n",
       "getUser(); \n"
      ],
      "text/plain": [
       "<IPython.core.display.Javascript object>"
      ]
     },
     "metadata": {},
     "output_type": "display_data"
    }
   ],
   "source": [
    "%%js\n",
    "const api_url = \"https://api.open-meteo.com/v1/forecast?latitude=32.7157&longitude=-117.1647&hourly=temperature_2m,precipitation_probability,precipitation,rain&daily=temperature_2m_max,temperature_2m_min,sunrise,sunset,rain_sum&temperature_unit=fahrenheit&windspeed_unit=mph&timezone=America%2FLos_Angeles\"; \n",
    "async function getWeather() { \n",
    "    const response = await fetch(api_url); \n",
    "    const weather = await response.json(); \n",
    "    var temps = []\n",
    "    var dates = []\n",
    "    var precipitation = []\n",
    "    for i in range(\n",
    "    console.log(data[\"daily\"][\"temperature_2m_max\"]); \n",
    "} \n",
    "\n",
    "\n",
    "// Calling the function \n",
    "getWeather(); \n"
   ]
  },
  {
   "cell_type": "code",
   "execution_count": null,
   "metadata": {},
   "outputs": [],
   "source": []
  }
 ],
 "metadata": {
  "kernelspec": {
   "display_name": "Python 3 (ipykernel)",
   "language": "python",
   "name": "python3"
  },
  "language_info": {
   "codemirror_mode": {
    "name": "ipython",
    "version": 3
   },
   "file_extension": ".py",
   "mimetype": "text/x-python",
   "name": "python",
   "nbconvert_exporter": "python",
   "pygments_lexer": "ipython3",
   "version": "3.10.12"
  }
 },
 "nbformat": 4,
 "nbformat_minor": 4
}
